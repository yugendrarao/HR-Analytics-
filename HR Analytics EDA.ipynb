{
 "cells": [
  {
   "cell_type": "markdown",
   "id": "3cb4001c",
   "metadata": {},
   "source": [
    "# HR Analytics EDA\n",
    "\n",
    "# Yugendra Rao K N (k.n.yugendrarao@gmail.com)"
   ]
  },
  {
   "cell_type": "markdown",
   "id": "04afb468",
   "metadata": {},
   "source": [
    "### Objective\n",
    "- This HR Analytics case study tries to demonstrate how EDA can be used in a real-world business situation.\n",
    "- In this study, objective is to identify the best source of recruitment for a client (tech startup), based on previous data of candidate sources and recruitment strategies."
   ]
  },
  {
   "cell_type": "code",
   "execution_count": 3,
   "id": "7cc293c0",
   "metadata": {},
   "outputs": [],
   "source": [
    "#Filtering out the warnings\n",
    "import warnings\n",
    "warnings.filterwarnings('ignore')\n",
    "#Importing Libraries\n",
    "import numpy as np\n",
    "import pandas as pd\n",
    "import seaborn as sns\n",
    "import matplotlib.pyplot as plt"
   ]
  },
  {
   "cell_type": "code",
   "execution_count": 4,
   "id": "f64af3b0",
   "metadata": {},
   "outputs": [
    {
     "data": {
      "text/html": [
       "<div>\n",
       "<style scoped>\n",
       "    .dataframe tbody tr th:only-of-type {\n",
       "        vertical-align: middle;\n",
       "    }\n",
       "\n",
       "    .dataframe tbody tr th {\n",
       "        vertical-align: top;\n",
       "    }\n",
       "\n",
       "    .dataframe thead th {\n",
       "        text-align: right;\n",
       "    }\n",
       "</style>\n",
       "<table border=\"1\" class=\"dataframe\">\n",
       "  <thead>\n",
       "    <tr style=\"text-align: right;\">\n",
       "      <th></th>\n",
       "      <th>attrition</th>\n",
       "      <th>performance_rating</th>\n",
       "      <th>sales_quota_pct</th>\n",
       "      <th>recruiting_source</th>\n",
       "    </tr>\n",
       "  </thead>\n",
       "  <tbody>\n",
       "    <tr>\n",
       "      <th>0</th>\n",
       "      <td>1</td>\n",
       "      <td>3</td>\n",
       "      <td>1.088190</td>\n",
       "      <td>Applied Online</td>\n",
       "    </tr>\n",
       "    <tr>\n",
       "      <th>1</th>\n",
       "      <td>0</td>\n",
       "      <td>3</td>\n",
       "      <td>2.394173</td>\n",
       "      <td>NaN</td>\n",
       "    </tr>\n",
       "    <tr>\n",
       "      <th>2</th>\n",
       "      <td>1</td>\n",
       "      <td>2</td>\n",
       "      <td>0.497530</td>\n",
       "      <td>Campus</td>\n",
       "    </tr>\n",
       "    <tr>\n",
       "      <th>3</th>\n",
       "      <td>0</td>\n",
       "      <td>2</td>\n",
       "      <td>2.513958</td>\n",
       "      <td>NaN</td>\n",
       "    </tr>\n",
       "    <tr>\n",
       "      <th>4</th>\n",
       "      <td>0</td>\n",
       "      <td>3</td>\n",
       "      <td>1.424789</td>\n",
       "      <td>Applied Online</td>\n",
       "    </tr>\n",
       "  </tbody>\n",
       "</table>\n",
       "</div>"
      ],
      "text/plain": [
       "   attrition  performance_rating  sales_quota_pct recruiting_source\n",
       "0          1                   3         1.088190    Applied Online\n",
       "1          0                   3         2.394173               NaN\n",
       "2          1                   2         0.497530            Campus\n",
       "3          0                   2         2.513958               NaN\n",
       "4          0                   3         1.424789    Applied Online"
      ]
     },
     "execution_count": 4,
     "metadata": {},
     "output_type": "execute_result"
    }
   ],
   "source": [
    "#Reading data from Recruitment_Data.csv\n",
    "recruitment_data = pd.read_csv('Recruitment_Data.csv')\n",
    "recruitment_data.head()"
   ]
  },
  {
   "cell_type": "code",
   "execution_count": 5,
   "id": "cb5de6e6",
   "metadata": {},
   "outputs": [
    {
     "data": {
      "text/plain": [
       "(446, 4)"
      ]
     },
     "execution_count": 5,
     "metadata": {},
     "output_type": "execute_result"
    }
   ],
   "source": [
    "#checking shape of the data frame\n",
    "recruitment_data.shape"
   ]
  },
  {
   "cell_type": "code",
   "execution_count": 6,
   "id": "b6775004",
   "metadata": {},
   "outputs": [
    {
     "name": "stdout",
     "output_type": "stream",
     "text": [
      "<class 'pandas.core.frame.DataFrame'>\n",
      "RangeIndex: 446 entries, 0 to 445\n",
      "Data columns (total 4 columns):\n",
      " #   Column              Non-Null Count  Dtype  \n",
      "---  ------              --------------  -----  \n",
      " 0   attrition           446 non-null    int64  \n",
      " 1   performance_rating  446 non-null    int64  \n",
      " 2   sales_quota_pct     446 non-null    float64\n",
      " 3   recruiting_source   241 non-null    object \n",
      "dtypes: float64(1), int64(2), object(1)\n",
      "memory usage: 14.1+ KB\n"
     ]
    }
   ],
   "source": [
    "#checking info of Recruitment_data\n",
    "recruitment_data.info(verbose=True, show_counts=True)"
   ]
  },
  {
   "cell_type": "markdown",
   "id": "def7bcc4",
   "metadata": {},
   "source": [
    "#### 1. performance_rating"
   ]
  },
  {
   "cell_type": "code",
   "execution_count": 7,
   "id": "3c3a7ff0",
   "metadata": {},
   "outputs": [
    {
     "data": {
      "text/plain": [
       "3    263\n",
       "2    106\n",
       "4     67\n",
       "1      7\n",
       "5      3\n",
       "Name: performance_rating, dtype: int64"
      ]
     },
     "execution_count": 7,
     "metadata": {},
     "output_type": "execute_result"
    }
   ],
   "source": [
    "#checking distribution of performance rating\n",
    "recruitment_data[\"performance_rating\"].value_counts()"
   ]
  },
  {
   "cell_type": "code",
   "execution_count": 8,
   "id": "92947374",
   "metadata": {},
   "outputs": [
    {
     "data": {
      "image/png": "[encoded data removed]",
      "text/plain": [
       "<Figure size 640x480 with 1 Axes>"
      ]
     },
     "metadata": {},
     "output_type": "display_data"
    }
   ],
   "source": [
    "sns.countplot(recruitment_data[\"performance_rating\"])\n",
    "plt.show()"
   ]
  },
  {
   "cell_type": "markdown",
   "id": "9d7b9c0b",
   "metadata": {},
   "source": [
    "- Maximum employees received performance rating as 3.\n",
    "- Rating 5 is received by only 3 employees."
   ]
  },
  {
   "cell_type": "markdown",
   "id": "588d9cdf",
   "metadata": {},
   "source": [
    "#### 2. recruiting_source"
   ]
  },
  {
   "cell_type": "code",
   "execution_count": 9,
   "id": "1f9ae4be",
   "metadata": {},
   "outputs": [
    {
     "data": {
      "text/plain": [
       "Applied Online    130\n",
       "Campus             56\n",
       "Referral           45\n",
       "Search Firm        10\n",
       "Name: recruiting_source, dtype: int64"
      ]
     },
     "execution_count": 9,
     "metadata": {},
     "output_type": "execute_result"
    }
   ],
   "source": [
    "#checking distribution of recruting source\n",
    "recruitment_data[\"recruiting_source\"].value_counts()"
   ]
  },
  {
   "cell_type": "code",
   "execution_count": 10,
   "id": "7ea17f58",
   "metadata": {},
   "outputs": [
    {
     "data": {
      "text/plain": [
       "NaN               205\n",
       "Applied Online    130\n",
       "Campus             56\n",
       "Referral           45\n",
       "Search Firm        10\n",
       "Name: recruiting_source, dtype: int64"
      ]
     },
     "execution_count": 10,
     "metadata": {},
     "output_type": "execute_result"
    }
   ],
   "source": [
    "recruitment_data[\"recruiting_source\"].value_counts(dropna = False)"
   ]
  },
  {
   "cell_type": "code",
   "execution_count": 11,
   "id": "1ea8bebf",
   "metadata": {},
   "outputs": [
    {
     "data": {
      "image/png": "[encoded data removed]",
      "text/plain": [
       "<Figure size 640x480 with 1 Axes>"
      ]
     },
     "metadata": {},
     "output_type": "display_data"
    }
   ],
   "source": [
    "sns.countplot(recruitment_data[\"recruiting_source\"])\n",
    "plt.show()"
   ]
  },
  {
   "cell_type": "markdown",
   "id": "6f377d33",
   "metadata": {},
   "source": [
    "- Maximum employees joined organization through Applied Online.\n",
    "- Minimum employees joined organization through Search Firm."
   ]
  },
  {
   "cell_type": "markdown",
   "id": "58fa6685",
   "metadata": {},
   "source": [
    "#### 3. illustration of Attrition numbers differences by the Recruiting_Source"
   ]
  },
  {
   "cell_type": "code",
   "execution_count": 13,
   "id": "dbea510b",
   "metadata": {},
   "outputs": [
    {
     "data": {
      "text/plain": [
       "recruiting_source\n",
       "Applied Online    0.246154\n",
       "Campus            0.285714\n",
       "Referral          0.333333\n",
       "Search Firm       0.500000\n",
       "Name: attrition, dtype: float64"
      ]
     },
     "execution_count": 13,
     "metadata": {},
     "output_type": "execute_result"
    }
   ],
   "source": [
    "#The average Attrition Number grouped by Recruiting Source\n",
    "recruitment_data.groupby('recruiting_source')['attrition'].mean()"
   ]
  },
  {
   "cell_type": "code",
   "execution_count": 14,
   "id": "023666dc",
   "metadata": {},
   "outputs": [
    {
     "data": {
      "image/png": "[encoded data removed]",
      "text/plain": [
       "<Figure size 640x480 with 1 Axes>"
      ]
     },
     "metadata": {},
     "output_type": "display_data"
    }
   ],
   "source": [
    "sns.countplot(data = recruitment_data, x = 'recruiting_source', hue = \"attrition\" )\n",
    "plt.show()"
   ]
  },
  {
   "cell_type": "markdown",
   "id": "c2fdf532",
   "metadata": {},
   "source": [
    "- Applied Online is having lowest Attrition Rate.\n",
    "- Search firm is having highest Attrition Rate."
   ]
  },
  {
   "cell_type": "markdown",
   "id": "d17f49be",
   "metadata": {},
   "source": [
    "#### 4. illustration of Performance Rating differences by Recruiting Source"
   ]
  },
  {
   "cell_type": "code",
   "execution_count": 17,
   "id": "7eee26b2",
   "metadata": {},
   "outputs": [
    {
     "data": {
      "text/plain": [
       "recruiting_source\n",
       "Applied Online    2.930769\n",
       "Campus            2.928571\n",
       "Referral          2.844444\n",
       "Search Firm       2.700000\n",
       "Name: performance_rating, dtype: float64"
      ]
     },
     "execution_count": 17,
     "metadata": {},
     "output_type": "execute_result"
    }
   ],
   "source": [
    "#The average Sales Number grouped by Recruiting Source\n",
    "recruitment_data.groupby(['recruiting_source'])['performance_rating'].mean()"
   ]
  },
  {
   "cell_type": "code",
   "execution_count": 18,
   "id": "bb70c015",
   "metadata": {},
   "outputs": [
    {
     "data": {
      "image/png": "[encoded data removed]",
      "text/plain": [
       "<Figure size 640x480 with 1 Axes>"
      ]
     },
     "metadata": {},
     "output_type": "display_data"
    }
   ],
   "source": [
    "sns.countplot(data = recruitment_data, x = 'recruiting_source', hue = \"performance_rating\" )\n",
    "plt.show()"
   ]
  },
  {
   "cell_type": "markdown",
   "id": "9ad4c021",
   "metadata": {},
   "source": [
    "- Applied Online and Campus recruits have highest performance rating.\n",
    "- Search Firm recruits have lowest performance rating."
   ]
  },
  {
   "cell_type": "markdown",
   "id": "c20f1e7a",
   "metadata": {},
   "source": [
    "## Conclusion\n",
    "### Sources that have high Sales numbers and low Attrition numbers.\n",
    "- Applied Online\n",
    "- Campus"
   ]
  }
 ],
 "metadata": {
  "kernelspec": {
   "display_name": "Python 3 (ipykernel)",
   "language": "python",
   "name": "python3"
  },
  "language_info": {
   "codemirror_mode": {
    "name": "ipython",
    "version": 3
   },
   "file_extension": ".py",
   "mimetype": "text/x-python",
   "name": "python",
   "nbconvert_exporter": "python",
   "pygments_lexer": "ipython3",
   "version": "3.12.7"
  }
 },
 "nbformat": 4,
 "nbformat_minor": 5
}
